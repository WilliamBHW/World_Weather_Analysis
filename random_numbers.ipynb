{
 "cells": [
  {
   "cell_type": "code",
   "execution_count": 1,
   "id": "5ddf3742",
   "metadata": {},
   "outputs": [],
   "source": [
    "# Import the random module.\n",
    "import random"
   ]
  },
  {
   "cell_type": "code",
   "execution_count": 7,
   "id": "fea43c26",
   "metadata": {},
   "outputs": [],
   "source": [
    "x = 1\n",
    "latitudes = []\n",
    "while x < 11:\n",
    "    random_lat = random.randint(-90, 89) + random.random()\n",
    "    latitudes.append(random_lat)\n",
    "    x += 1"
   ]
  },
  {
   "cell_type": "code",
   "execution_count": 8,
   "id": "f80afff2",
   "metadata": {},
   "outputs": [
    {
     "data": {
      "text/plain": [
       "[-9.749465019382946,\n",
       " 42.69668366196961,\n",
       " -38.67951303753607,\n",
       " -26.661632673568125,\n",
       " 79.87479544783704,\n",
       " 30.20997323372745,\n",
       " -75.85067592211624,\n",
       " -24.05132368915503,\n",
       " 46.87055388465794,\n",
       " -18.196896692521207]"
      ]
     },
     "execution_count": 8,
     "metadata": {},
     "output_type": "execute_result"
    }
   ],
   "source": [
    "latitudes"
   ]
  },
  {
   "cell_type": "code",
   "execution_count": 9,
   "id": "5f48c26f",
   "metadata": {},
   "outputs": [
    {
     "data": {
      "text/plain": [
       "-81"
      ]
     },
     "execution_count": 9,
     "metadata": {},
     "output_type": "execute_result"
    }
   ],
   "source": [
    "random.randrange(-90, 90, step=3)"
   ]
  },
  {
   "cell_type": "code",
   "execution_count": 10,
   "id": "00569b81",
   "metadata": {},
   "outputs": [],
   "source": [
    "# Import the NumPy module.\n",
    "import numpy as np"
   ]
  },
  {
   "cell_type": "code",
   "execution_count": 11,
   "id": "20dc2e96",
   "metadata": {},
   "outputs": [
    {
     "data": {
      "text/plain": [
       "array([-41.82946026, -44.83017134,  65.69588771,   8.88450522,\n",
       "        59.87272652, -23.50075253,  -4.03726304,  -5.41456923,\n",
       "        -8.38149134, -76.27510479, -52.86107071,  38.44841381,\n",
       "       -81.67700181,  44.4082939 ,  45.62018662, -46.15157488,\n",
       "        39.19461317,  59.45887822, -37.30679955,  59.15272814,\n",
       "       -83.57859041, -18.74088607, -61.62417294,  13.5654194 ,\n",
       "       -22.21886422,  75.5221768 ,  -4.98150111, -62.04071383,\n",
       "       -45.7241462 , -22.04251413, -12.48786307, -53.13740472,\n",
       "       -65.16939127, -15.45643746,  68.95663211,  22.68830163,\n",
       "       -48.75280212,   6.65423535,   5.75906565,  50.83539774,\n",
       "       -15.32942449,  82.54762585, -14.83251818, -67.85923269,\n",
       "       -32.63663804, -58.31073583,  77.6531922 ,  23.41256644,\n",
       "       -44.79617769,  18.03113809])"
      ]
     },
     "execution_count": 11,
     "metadata": {},
     "output_type": "execute_result"
    }
   ],
   "source": [
    "np.random.uniform(-90.000, 90.000, size=50)"
   ]
  },
  {
   "cell_type": "code",
   "execution_count": 12,
   "id": "133d2023",
   "metadata": {},
   "outputs": [],
   "source": [
    "# Import timeit.\n",
    "import timeit"
   ]
  },
  {
   "cell_type": "code",
   "execution_count": 15,
   "id": "07fa3955",
   "metadata": {},
   "outputs": [
    {
     "name": "stdout",
     "output_type": "stream",
     "text": [
      "21.1 µs ± 1.01 µs per loop (mean ± std. dev. of 7 runs, 10000 loops each)\n"
     ]
    }
   ],
   "source": [
    "%timeit np.random.uniform(-90.000, 90.000, size=1500)"
   ]
  },
  {
   "cell_type": "code",
   "execution_count": 16,
   "id": "f988d671",
   "metadata": {},
   "outputs": [
    {
     "name": "stdout",
     "output_type": "stream",
     "text": [
      "2.87 ms ± 223 µs per loop (mean ± std. dev. of 7 runs, 100 loops each)\n"
     ]
    }
   ],
   "source": [
    "def latitudes(size):\n",
    "    latitudes = []\n",
    "    x = 0\n",
    "    while x < (size):\n",
    "        random_lat = random.randint(-90, 90) + random.random()\n",
    "        latitudes.append(random_lat)\n",
    "        x += 1\n",
    "    return latitudes\n",
    "# Call the function with 1500.\n",
    "%timeit latitudes(1500)"
   ]
  },
  {
   "cell_type": "code",
   "execution_count": null,
   "id": "9a6fade9",
   "metadata": {},
   "outputs": [],
   "source": []
  }
 ],
 "metadata": {
  "kernelspec": {
   "display_name": "Python 3",
   "language": "python",
   "name": "python3"
  },
  "language_info": {
   "codemirror_mode": {
    "name": "ipython",
    "version": 3
   },
   "file_extension": ".py",
   "mimetype": "text/x-python",
   "name": "python",
   "nbconvert_exporter": "python",
   "pygments_lexer": "ipython3",
   "version": "3.7.10"
  }
 },
 "nbformat": 4,
 "nbformat_minor": 5
}
